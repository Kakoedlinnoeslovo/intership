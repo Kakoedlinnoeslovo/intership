{
 "cells": [
  {
   "cell_type": "markdown",
   "metadata": {},
   "source": [
    "<center><h1>First Steps With Julia<h1></center>"
   ]
  },
  {
   "cell_type": "markdown",
   "metadata": {},
   "source": [
    "Добрый день!\n",
    "\n",
    "У нас есть еще одна вакансия в группу семантического анализа в Лаборатории Техносферы. За несколько месяцев стажировки несколько наши студентов успели принять участие в реальных проектах связанных с глубокими нейронными сетями, таких как:\n",
    "- style transfer в приложении Artisto\n",
    "- классификатор порно картинок\n",
    "- анализ текстов при помощи LSTM сетей (чат-боты, автоответчики)\n",
    "- семантический поиск по изображениям\n",
    "\n",
    "Но проектов у нас больше, чем рук.\n",
    "\n",
    "Мы ожидаем от студентов всего двух вещей:\n",
    "- хорошее знание теории вероятности и мат.статистики\n",
    "- умение писать код (python или c++)\n",
    "\n",
    "Что дадим:\n",
    "- возможность общаться с лучшими специалистами компании в области deep learning\n",
    "- возможность посещать внутренний deep learning семинар в компании\n",
    "- оплачиваемая стажировка в стенах вуза\n",
    "- задачи в области deep learning и computer vision\n",
    "- практическое применение результатов\n",
    "- возможна публикация результатов в научных журналах\n",
    "\n",
    "Порядок поступления:\n",
    "- вы присылаете заявку вместе с результатом и описанием решения конкурса (в виде ipynb) https://www.kaggle.com/c/street-view-getting-started-with-julia используя tensorflow или theano\n",
    "- проходите устное собеседование\n",
    "\n",
    "Ждем ваших заявок."
   ]
  },
  {
   "cell_type": "markdown",
   "metadata": {},
   "source": [
    "<center><h3>Подключаем библиотеки</h3></center>"
   ]
  },
  {
   "cell_type": "code",
   "execution_count": 1,
   "metadata": {
    "collapsed": true
   },
   "outputs": [],
   "source": [
    "from scipy import misc\n",
    "import numpy as np\n",
    "import pandas as pd\n",
    "import mahotas as mh\n",
    "import tensorflow as tf\n",
    "from __future__ import absolute_import#Python 2 and 3 compatible\n",
    "from __future__ import division\n",
    "from __future__ import print_function\n",
    "import matplotlib.pyplot as plt\n",
    "import matplotlib\n",
    "from skimage.io import imread\n",
    "from scipy.misc import imread, imsave, imresize\n",
    "import csv\n",
    "%matplotlib inline"
   ]
  },
  {
   "cell_type": "markdown",
   "metadata": {},
   "source": [
    "<center><h3>Задаем параметры</h3></center>"
   ]
  },
  {
   "cell_type": "code",
   "execution_count": 2,
   "metadata": {
    "collapsed": true
   },
   "outputs": [],
   "source": [
    "size = 20 #20x20 trainResized и testResized \n",
    "image_size = size*size*1 #400, channel = 1 only gray.\n",
    "path=\"\"\n",
    "batch_size = 50\n",
    "learning_rate = 0.005\n",
    "max_steps = 1000"
   ]
  },
  {
   "cell_type": "markdown",
   "metadata": {},
   "source": [
    "<center><h3>Считываем тестовую и трейновую выборку</h3></center>"
   ]
  },
  {
   "cell_type": "code",
   "execution_count": 3,
   "metadata": {
    "collapsed": true
   },
   "outputs": [],
   "source": [
    "def read_data(type_data, labels, path):\n",
    "    x = np.zeros((labels.shape[0], image_size))\n",
    "    for (index, idImage) in enumerate(labels[\"ID\"]):\n",
    "        file_name = \"{1}/{2}.Bmp\".format(path, type_data, idImage)\n",
    "        img = np.array(mh.imread(file_name, as_grey=True), dtype=np.float64) \n",
    "        x[index] = img.ravel()\n",
    "    return x"
   ]
  },
  {
   "cell_type": "code",
   "execution_count": 4,
   "metadata": {
    "collapsed": true
   },
   "outputs": [],
   "source": [
    "labels_train = pd.read_csv(\"trainLabels.csv\")\n",
    "labels_test = pd.read_csv(\"sampleSubmission.csv\")\n",
    "train = read_data(\"trainResized\", labels_train, path)#read train\n",
    "test = read_data(\"testResized\", labels_test, path)#read test "
   ]
  },
  {
   "cell_type": "code",
   "execution_count": 5,
   "metadata": {
    "collapsed": false
   },
   "outputs": [
    {
     "name": "stdout",
     "output_type": "stream",
     "text": [
      "Test shape:  (6220, 400)\n",
      "_________________________________________________________________________________________________________________\n",
      "Train shape:  (6283, 400)\n",
      "_________________________________________________________________________________________________________________\n",
      "Train labels shape:  (6283, 2)\n",
      "_________________________________________________________________________________________________________________\n",
      "First 5 labels: \n",
      "    ID Class\n",
      "0   1     n\n",
      "1   2     8\n",
      "2   3     T\n",
      "3   4     I\n",
      "4   5     R\n",
      "_________________________________________________________________________________________________________________\n",
      "Classes:  ['0' '1' '2' '3' '4' '5' '6' '7' '8' '9' 'A' 'B' 'C' 'D' 'E' 'F' 'G' 'H'\n",
      " 'I' 'J' 'K' 'L' 'M' 'N' 'O' 'P' 'Q' 'R' 'S' 'T' 'U' 'V' 'W' 'X' 'Y' 'Z'\n",
      " 'a' 'b' 'c' 'd' 'e' 'f' 'g' 'h' 'i' 'j' 'k' 'l' 'm' 'n' 'o' 'p' 'q' 'r'\n",
      " 's' 't' 'u' 'v' 'w' 'x' 'y' 'z']\n",
      "Total:  62 classes\n"
     ]
    }
   ],
   "source": [
    "print('Test shape: ', test.shape)   \n",
    "print('_________________________________________________________________________________________________________________')\n",
    "print('Train shape: ', train.shape)  \n",
    "print('_________________________________________________________________________________________________________________')\n",
    "print('Train labels shape: ', labels_train.shape)\n",
    "print('_________________________________________________________________________________________________________________')\n",
    "print('First 5 labels: \\n' , labels_train[0:5])\n",
    "print('_________________________________________________________________________________________________________________')\n",
    "print('Classes: ', np.unique(labels_train['Class'].values))\n",
    "print('Total: ', len(np.unique(labels_train['Class'].values)), 'classes') \n",
    "unique_labels = np.unique(labels_train['Class'].values)"
   ]
  },
  {
   "cell_type": "code",
   "execution_count": 6,
   "metadata": {
    "collapsed": false
   },
   "outputs": [
    {
     "data": {
      "image/png": "[encoded data removed]",
      "text/plain": [
       "<matplotlib.figure.Figure at 0x11a81a750>"
      ]
     },
     "metadata": {},
     "output_type": "display_data"
    }
   ],
   "source": [
    "labels_train.groupby('Class').mean().plot(kind='bar', legend=False)\n",
    "plt.show()#В среднем выборка примерно одинаково разбита по классам"
   ]
  },
  {
   "cell_type": "markdown",
   "metadata": {},
   "source": [
    "<center><h3>Сделаем преобразование над лейблами</h3></center>"
   ]
  },
  {
   "cell_type": "code",
   "execution_count": 7,
   "metadata": {
    "collapsed": true
   },
   "outputs": [],
   "source": [
    "def label2int(ch):#переводит лейблы в число\n",
    "    asciiVal = ord(ch)\n",
    "    if(asciiVal<=57): #0-9\n",
    "        asciiVal-=48\n",
    "    elif(asciiVal<=90): #A-Z\n",
    "        asciiVal-=55\n",
    "    else: #a-z\n",
    "        asciiVal-=61\n",
    "    return asciiVal"
   ]
  },
  {
   "cell_type": "code",
   "execution_count": 8,
   "metadata": {
    "collapsed": false
   },
   "outputs": [
    {
     "data": {
      "text/html": [
       "<div>\n",
       "<table border=\"1\" class=\"dataframe\">\n",
       "  <thead>\n",
       "    <tr style=\"text-align: right;\">\n",
       "      <th></th>\n",
       "      <th>ID</th>\n",
       "      <th>Class</th>\n",
       "    </tr>\n",
       "  </thead>\n",
       "  <tbody>\n",
       "    <tr>\n",
       "      <th>0</th>\n",
       "      <td>1</td>\n",
       "      <td>n</td>\n",
       "    </tr>\n",
       "    <tr>\n",
       "      <th>1</th>\n",
       "      <td>2</td>\n",
       "      <td>8</td>\n",
       "    </tr>\n",
       "    <tr>\n",
       "      <th>2</th>\n",
       "      <td>3</td>\n",
       "      <td>T</td>\n",
       "    </tr>\n",
       "    <tr>\n",
       "      <th>3</th>\n",
       "      <td>4</td>\n",
       "      <td>I</td>\n",
       "    </tr>\n",
       "    <tr>\n",
       "      <th>4</th>\n",
       "      <td>5</td>\n",
       "      <td>R</td>\n",
       "    </tr>\n",
       "  </tbody>\n",
       "</table>\n",
       "</div>"
      ],
      "text/plain": [
       "   ID Class\n",
       "0   1     n\n",
       "1   2     8\n",
       "2   3     T\n",
       "3   4     I\n",
       "4   5     R"
      ]
     },
     "execution_count": 8,
     "metadata": {},
     "output_type": "execute_result"
    }
   ],
   "source": [
    "labels_train.head()"
   ]
  },
  {
   "cell_type": "code",
   "execution_count": 9,
   "metadata": {
    "collapsed": true
   },
   "outputs": [],
   "source": [
    "labels_train['Class'] = labels_train['Class'].apply(label2int)"
   ]
  },
  {
   "cell_type": "code",
   "execution_count": 10,
   "metadata": {
    "collapsed": false
   },
   "outputs": [
    {
     "data": {
      "text/html": [
       "<div>\n",
       "<table border=\"1\" class=\"dataframe\">\n",
       "  <thead>\n",
       "    <tr style=\"text-align: right;\">\n",
       "      <th></th>\n",
       "      <th>ID</th>\n",
       "      <th>Class</th>\n",
       "    </tr>\n",
       "  </thead>\n",
       "  <tbody>\n",
       "    <tr>\n",
       "      <th>0</th>\n",
       "      <td>1</td>\n",
       "      <td>49</td>\n",
       "    </tr>\n",
       "    <tr>\n",
       "      <th>1</th>\n",
       "      <td>2</td>\n",
       "      <td>8</td>\n",
       "    </tr>\n",
       "    <tr>\n",
       "      <th>2</th>\n",
       "      <td>3</td>\n",
       "      <td>29</td>\n",
       "    </tr>\n",
       "    <tr>\n",
       "      <th>3</th>\n",
       "      <td>4</td>\n",
       "      <td>18</td>\n",
       "    </tr>\n",
       "    <tr>\n",
       "      <th>4</th>\n",
       "      <td>5</td>\n",
       "      <td>27</td>\n",
       "    </tr>\n",
       "  </tbody>\n",
       "</table>\n",
       "</div>"
      ],
      "text/plain": [
       "   ID  Class\n",
       "0   1     49\n",
       "1   2      8\n",
       "2   3     29\n",
       "3   4     18\n",
       "4   5     27"
      ]
     },
     "execution_count": 10,
     "metadata": {},
     "output_type": "execute_result"
    }
   ],
   "source": [
    "labels_train.head()"
   ]
  },
  {
   "cell_type": "code",
   "execution_count": 11,
   "metadata": {
    "collapsed": true
   },
   "outputs": [],
   "source": [
    "from sklearn.preprocessing import OneHotEncoder#сделаем OneHot над 62 классами\n",
    "encoder = OneHotEncoder(sparse=False)\n",
    "\n",
    "s=set(labels_train.Class.value_counts().index)#s - все уникальные значения\n",
    "key_s = range(0,61) \n",
    "d = {key: value for (key, value) in zip(sorted(s), key_s)} \n",
    "emb = labels_train.loc[:, ['Class']].replace(d).values\n",
    "\n",
    "names=[]\n",
    "for item in s:\n",
    "    names.append('class %d'%item)\n",
    "    \n",
    "emb_enc = encoder.fit_transform(emb)\n",
    "\n",
    "labels_train=labels_train.join(pd.DataFrame(data=emb_enc, columns=names, index=labels_train.index))"
   ]
  },
  {
   "cell_type": "code",
   "execution_count": 12,
   "metadata": {
    "collapsed": false
   },
   "outputs": [
    {
     "data": {
      "text/html": [
       "<div>\n",
       "<table border=\"1\" class=\"dataframe\">\n",
       "  <thead>\n",
       "    <tr style=\"text-align: right;\">\n",
       "      <th></th>\n",
       "      <th>class 0</th>\n",
       "      <th>class 1</th>\n",
       "      <th>class 2</th>\n",
       "      <th>class 3</th>\n",
       "      <th>class 4</th>\n",
       "      <th>class 5</th>\n",
       "      <th>class 6</th>\n",
       "      <th>class 7</th>\n",
       "      <th>class 8</th>\n",
       "      <th>class 9</th>\n",
       "      <th>...</th>\n",
       "      <th>class 52</th>\n",
       "      <th>class 53</th>\n",
       "      <th>class 54</th>\n",
       "      <th>class 55</th>\n",
       "      <th>class 56</th>\n",
       "      <th>class 57</th>\n",
       "      <th>class 58</th>\n",
       "      <th>class 59</th>\n",
       "      <th>class 60</th>\n",
       "      <th>class 61</th>\n",
       "    </tr>\n",
       "  </thead>\n",
       "  <tbody>\n",
       "    <tr>\n",
       "      <th>0</th>\n",
       "      <td>0.0</td>\n",
       "      <td>0.0</td>\n",
       "      <td>0.0</td>\n",
       "      <td>0.0</td>\n",
       "      <td>0.0</td>\n",
       "      <td>0.0</td>\n",
       "      <td>0.0</td>\n",
       "      <td>0.0</td>\n",
       "      <td>0.0</td>\n",
       "      <td>0.0</td>\n",
       "      <td>...</td>\n",
       "      <td>0.0</td>\n",
       "      <td>0.0</td>\n",
       "      <td>0.0</td>\n",
       "      <td>0.0</td>\n",
       "      <td>0.0</td>\n",
       "      <td>0.0</td>\n",
       "      <td>0.0</td>\n",
       "      <td>0.0</td>\n",
       "      <td>0.0</td>\n",
       "      <td>0.0</td>\n",
       "    </tr>\n",
       "    <tr>\n",
       "      <th>1</th>\n",
       "      <td>0.0</td>\n",
       "      <td>0.0</td>\n",
       "      <td>0.0</td>\n",
       "      <td>0.0</td>\n",
       "      <td>0.0</td>\n",
       "      <td>0.0</td>\n",
       "      <td>0.0</td>\n",
       "      <td>0.0</td>\n",
       "      <td>1.0</td>\n",
       "      <td>0.0</td>\n",
       "      <td>...</td>\n",
       "      <td>0.0</td>\n",
       "      <td>0.0</td>\n",
       "      <td>0.0</td>\n",
       "      <td>0.0</td>\n",
       "      <td>0.0</td>\n",
       "      <td>0.0</td>\n",
       "      <td>0.0</td>\n",
       "      <td>0.0</td>\n",
       "      <td>0.0</td>\n",
       "      <td>0.0</td>\n",
       "    </tr>\n",
       "    <tr>\n",
       "      <th>2</th>\n",
       "      <td>0.0</td>\n",
       "      <td>0.0</td>\n",
       "      <td>0.0</td>\n",
       "      <td>0.0</td>\n",
       "      <td>0.0</td>\n",
       "      <td>0.0</td>\n",
       "      <td>0.0</td>\n",
       "      <td>0.0</td>\n",
       "      <td>0.0</td>\n",
       "      <td>0.0</td>\n",
       "      <td>...</td>\n",
       "      <td>0.0</td>\n",
       "      <td>0.0</td>\n",
       "      <td>0.0</td>\n",
       "      <td>0.0</td>\n",
       "      <td>0.0</td>\n",
       "      <td>0.0</td>\n",
       "      <td>0.0</td>\n",
       "      <td>0.0</td>\n",
       "      <td>0.0</td>\n",
       "      <td>0.0</td>\n",
       "    </tr>\n",
       "    <tr>\n",
       "      <th>3</th>\n",
       "      <td>0.0</td>\n",
       "      <td>0.0</td>\n",
       "      <td>0.0</td>\n",
       "      <td>0.0</td>\n",
       "      <td>0.0</td>\n",
       "      <td>0.0</td>\n",
       "      <td>0.0</td>\n",
       "      <td>0.0</td>\n",
       "      <td>0.0</td>\n",
       "      <td>0.0</td>\n",
       "      <td>...</td>\n",
       "      <td>0.0</td>\n",
       "      <td>0.0</td>\n",
       "      <td>0.0</td>\n",
       "      <td>0.0</td>\n",
       "      <td>0.0</td>\n",
       "      <td>0.0</td>\n",
       "      <td>0.0</td>\n",
       "      <td>0.0</td>\n",
       "      <td>0.0</td>\n",
       "      <td>0.0</td>\n",
       "    </tr>\n",
       "    <tr>\n",
       "      <th>4</th>\n",
       "      <td>0.0</td>\n",
       "      <td>0.0</td>\n",
       "      <td>0.0</td>\n",
       "      <td>0.0</td>\n",
       "      <td>0.0</td>\n",
       "      <td>0.0</td>\n",
       "      <td>0.0</td>\n",
       "      <td>0.0</td>\n",
       "      <td>0.0</td>\n",
       "      <td>0.0</td>\n",
       "      <td>...</td>\n",
       "      <td>0.0</td>\n",
       "      <td>0.0</td>\n",
       "      <td>0.0</td>\n",
       "      <td>0.0</td>\n",
       "      <td>0.0</td>\n",
       "      <td>0.0</td>\n",
       "      <td>0.0</td>\n",
       "      <td>0.0</td>\n",
       "      <td>0.0</td>\n",
       "      <td>0.0</td>\n",
       "    </tr>\n",
       "  </tbody>\n",
       "</table>\n",
       "<p>5 rows × 62 columns</p>\n",
       "</div>"
      ],
      "text/plain": [
       "   class 0  class 1  class 2  class 3  class 4  class 5  class 6  class 7  \\\n",
       "0      0.0      0.0      0.0      0.0      0.0      0.0      0.0      0.0   \n",
       "1      0.0      0.0      0.0      0.0      0.0      0.0      0.0      0.0   \n",
       "2      0.0      0.0      0.0      0.0      0.0      0.0      0.0      0.0   \n",
       "3      0.0      0.0      0.0      0.0      0.0      0.0      0.0      0.0   \n",
       "4      0.0      0.0      0.0      0.0      0.0      0.0      0.0      0.0   \n",
       "\n",
       "   class 8  class 9    ...     class 52  class 53  class 54  class 55  \\\n",
       "0      0.0      0.0    ...          0.0       0.0       0.0       0.0   \n",
       "1      1.0      0.0    ...          0.0       0.0       0.0       0.0   \n",
       "2      0.0      0.0    ...          0.0       0.0       0.0       0.0   \n",
       "3      0.0      0.0    ...          0.0       0.0       0.0       0.0   \n",
       "4      0.0      0.0    ...          0.0       0.0       0.0       0.0   \n",
       "\n",
       "   class 56  class 57  class 58  class 59  class 60  class 61  \n",
       "0       0.0       0.0       0.0       0.0       0.0       0.0  \n",
       "1       0.0       0.0       0.0       0.0       0.0       0.0  \n",
       "2       0.0       0.0       0.0       0.0       0.0       0.0  \n",
       "3       0.0       0.0       0.0       0.0       0.0       0.0  \n",
       "4       0.0       0.0       0.0       0.0       0.0       0.0  \n",
       "\n",
       "[5 rows x 62 columns]"
      ]
     },
     "execution_count": 12,
     "metadata": {},
     "output_type": "execute_result"
    }
   ],
   "source": [
    "labels_train = labels_train.drop('Class', 1)\n",
    "labels_train = labels_train.drop('ID', 1)\n",
    "labels_train.head()"
   ]
  },
  {
   "cell_type": "code",
   "execution_count": 13,
   "metadata": {
    "collapsed": true
   },
   "outputs": [],
   "source": [
    "labels = np.array(labels_train)#сохраним в виде массива\n",
    "tc = 62#количество классов будет часто использоваться в дальнейшем, сохраним"
   ]
  },
  {
   "cell_type": "markdown",
   "metadata": {},
   "source": [
    "<center><h3>Зададим модель</h3></center>"
   ]
  },
  {
   "cell_type": "markdown",
   "metadata": {},
   "source": [
    "Наша модель будет представлена в виде свёрточной нейронной сети, состоящей из двух слоёв."
   ]
  },
  {
   "cell_type": "code",
   "execution_count": 14,
   "metadata": {
    "collapsed": true
   },
   "outputs": [],
   "source": [
    "images = tf.placeholder(\"float\", shape=[None, image_size])\n",
    "true_labels = tf.placeholder(\"float\", shape=[None, tc])"
   ]
  },
  {
   "cell_type": "code",
   "execution_count": 15,
   "metadata": {
    "collapsed": true
   },
   "outputs": [],
   "source": [
    "images_reshaped = tf.reshape(images, [-1,20,20,1])"
   ]
  },
  {
   "cell_type": "code",
   "execution_count": 16,
   "metadata": {
    "collapsed": true
   },
   "outputs": [],
   "source": [
    "def weight(shape):\n",
    "    initial = tf.truncated_normal(shape, stddev=0.1)\n",
    "    return tf.Variable(initial)\n",
    "\n",
    "def bias(shape):\n",
    "    initial = tf.constant(0.1, shape=shape)\n",
    "    return tf.Variable(initial)"
   ]
  },
  {
   "cell_type": "code",
   "execution_count": 17,
   "metadata": {
    "collapsed": true
   },
   "outputs": [],
   "source": [
    "def conv2d(x, W):#convolutional layer\n",
    "    return tf.nn.conv2d(x, W, strides=[1, 1, 1, 1], padding='SAME')\n",
    "def max_pool_2x2(x):#pooling layer\n",
    "    return tf.nn.max_pool(x, ksize=[1, 2, 2, 1], strides=[1, 2, 2, 1], padding='SAME')"
   ]
  },
  {
   "cell_type": "code",
   "execution_count": 18,
   "metadata": {
    "collapsed": true
   },
   "outputs": [],
   "source": [
    "W_conv1 = weight([5, 5, 1, 32])#ядро первого слоя\n",
    "b_conv1 = bias([32])"
   ]
  },
  {
   "cell_type": "code",
   "execution_count": 19,
   "metadata": {
    "collapsed": false
   },
   "outputs": [],
   "source": [
    "h_conv1 = tf.nn.relu(conv2d(images_reshaped, W_conv1) + b_conv1)#нейронная функция\n",
    "h_pool1 = max_pool_2x2(h_conv1)"
   ]
  },
  {
   "cell_type": "code",
   "execution_count": 20,
   "metadata": {
    "collapsed": false
   },
   "outputs": [],
   "source": [
    "W_conv2 = weight([5, 5, 32, 64])#ядро второго слоя\n",
    "b_conv2 = bias([64])"
   ]
  },
  {
   "cell_type": "code",
   "execution_count": 21,
   "metadata": {
    "collapsed": true
   },
   "outputs": [],
   "source": [
    "h_conv2 = tf.nn.relu(conv2d(h_pool1, W_conv2) + b_conv2)\n",
    "h_pool2 = max_pool_2x2(h_conv2)"
   ]
  },
  {
   "cell_type": "code",
   "execution_count": 22,
   "metadata": {
    "collapsed": false
   },
   "outputs": [],
   "source": [
    "W_fc1 = weight([5 * 5 * 64, 1024])#output\n",
    "b_fc1 = bias([1024])"
   ]
  },
  {
   "cell_type": "code",
   "execution_count": 23,
   "metadata": {
    "collapsed": true
   },
   "outputs": [],
   "source": [
    "h_pool2_flat = tf.reshape(h_pool2, [-1, 5 *5 * 64])\n",
    "h_fc1 = tf.nn.relu(tf.matmul(h_pool2_flat, W_fc1) + b_fc1)"
   ]
  },
  {
   "cell_type": "code",
   "execution_count": 24,
   "metadata": {
    "collapsed": true
   },
   "outputs": [],
   "source": [
    "keep_prob = tf.placeholder(\"float\")#чтобы не переобучиться\n",
    "h_fc1_drop = tf.nn.dropout(h_fc1, keep_prob)"
   ]
  },
  {
   "cell_type": "code",
   "execution_count": 25,
   "metadata": {
    "collapsed": false
   },
   "outputs": [],
   "source": [
    "W_fc2 = weight([1024,62])#softmax layer\n",
    "b_fc2 = bias([62])"
   ]
  },
  {
   "cell_type": "code",
   "execution_count": 26,
   "metadata": {
    "collapsed": true
   },
   "outputs": [],
   "source": [
    "predicted_labels=tf.nn.softmax(tf.matmul(h_fc1_drop, W_fc2) + b_fc2)"
   ]
  },
  {
   "cell_type": "code",
   "execution_count": 37,
   "metadata": {
    "collapsed": false
   },
   "outputs": [],
   "source": [
    "cross_entropy = -tf.reduce_sum(true_labels*tf.log(predicted_labels))\n",
    "train_step = tf.train.AdamOptimizer(1e-4).minimize(cross_entropy)\n",
    "correct_prediction = tf.equal(tf.argmax(predicted_labels,1), tf.argmax(true_labels,1))\n",
    "accuracy = tf.reduce_mean(tf.cast(correct_prediction, \"float\"))"
   ]
  },
  {
   "cell_type": "markdown",
   "metadata": {},
   "source": [
    "<h3>Нормализуем данные</h3>"
   ]
  },
  {
   "cell_type": "code",
   "execution_count": 28,
   "metadata": {
    "collapsed": true
   },
   "outputs": [],
   "source": [
    "train_normed = train / train.max(axis=0)\n",
    "test_normed = test / test.max(axis=0)"
   ]
  },
  {
   "cell_type": "markdown",
   "metadata": {},
   "source": [
    "<h3>Запустим модель</h3>"
   ]
  },
  {
   "cell_type": "code",
   "execution_count": 40,
   "metadata": {
    "collapsed": false,
    "scrolled": false
   },
   "outputs": [
    {
     "name": "stdout",
     "output_type": "stream",
     "text": [
      "step 0, training accuracy 0.02\n",
      "step 100, training accuracy 0.02\n",
      "step 200, training accuracy 0.14\n",
      "step 300, training accuracy 0.16\n",
      "step 400, training accuracy 0.24\n",
      "step 500, training accuracy 0.24\n",
      "step 600, training accuracy 0.3\n",
      "step 700, training accuracy 0.5\n",
      "step 800, training accuracy 0.38\n",
      "step 900, training accuracy 0.52\n",
      "step 1000, training accuracy 0.48\n",
      "step 1100, training accuracy 0.5\n",
      "step 1200, training accuracy 0.6\n",
      "step 1300, training accuracy 0.64\n",
      "step 1400, training accuracy 0.54\n",
      "step 1500, training accuracy 0.58\n",
      "step 1600, training accuracy 0.7\n",
      "step 1700, training accuracy 0.66\n",
      "step 1800, training accuracy 0.66\n",
      "step 1900, training accuracy 0.74\n",
      "step 2000, training accuracy 0.8\n",
      "step 2100, training accuracy 0.66\n",
      "step 2200, training accuracy 0.72\n",
      "step 2300, training accuracy 0.66\n",
      "step 2400, training accuracy 0.64\n",
      "step 2500, training accuracy 0.68\n",
      "step 2600, training accuracy 0.76\n",
      "step 2700, training accuracy 0.68\n",
      "step 2800, training accuracy 0.82\n",
      "step 2900, training accuracy 0.76\n",
      "step 3000, training accuracy 0.68\n",
      "step 3100, training accuracy 0.88\n",
      "step 3200, training accuracy 0.74\n",
      "step 3300, training accuracy 0.82\n",
      "step 3400, training accuracy 0.8\n",
      "step 3500, training accuracy 0.88\n",
      "step 3600, training accuracy 0.82\n",
      "step 3700, training accuracy 0.86\n",
      "step 3800, training accuracy 0.9\n",
      "step 3900, training accuracy 0.82\n",
      "step 4000, training accuracy 0.78\n",
      "step 4100, training accuracy 0.9\n",
      "step 4200, training accuracy 0.8\n",
      "step 4300, training accuracy 0.98\n",
      "step 4400, training accuracy 0.88\n",
      "step 4500, training accuracy 0.9\n",
      "step 4600, training accuracy 0.86\n",
      "step 4700, training accuracy 0.8\n",
      "step 4800, training accuracy 0.86\n",
      "step 4900, training accuracy 0.92\n"
     ]
    }
   ],
   "source": [
    "sess = tf.Session()\n",
    "\n",
    "sess.run(tf.global_variables_initializer())\n",
    "\n",
    "for i in range(5000):\n",
    "    indices = np.random.choice(train.shape[0], batch_size)#чтобы ускорить делаю не со всей выборкой\n",
    "    images_batch = train_normed[indices]\n",
    "    labels_batch = labels[indices]\n",
    "    if i%100 == 0:\n",
    "        train_accuracy = sess.run( accuracy, feed_dict={ images:images_batch, true_labels: labels_batch, keep_prob: 1.0})\n",
    "        print(\"step %d, training accuracy %g\"%(i, train_accuracy))\n",
    "    sess.run(train_step,feed_dict={images: images_batch, true_labels: labels_batch, keep_prob: 0.5})\n",
    "sub_ = sess.run(predicted_labels, feed_dict={images: test_normed, keep_prob: 0.5})"
   ]
  },
  {
   "cell_type": "markdown",
   "metadata": {},
   "source": [
    "<center><h3>Делаем сабмит</h3></center>"
   ]
  },
  {
   "cell_type": "code",
   "execution_count": 42,
   "metadata": {
    "collapsed": true
   },
   "outputs": [],
   "source": [
    "def int2label(i):#переводим назад в буквы\n",
    "    if(i<=9): #0-9\n",
    "        i+=48\n",
    "    elif(i<=35): #A-Z\n",
    "        i+=55\n",
    "    else: #a-z\n",
    "        i+=61\n",
    "    return chr(i)"
   ]
  },
  {
   "cell_type": "code",
   "execution_count": 43,
   "metadata": {
    "collapsed": false
   },
   "outputs": [],
   "source": [
    "submission = pd.DataFrame()\n",
    "submission['ID'] = labels_test['ID']\n",
    "submission['Class'] = pd.DataFrame(np.argmax(sub_, axis=1))\n",
    "submissionName = 'Successful_submission'\n",
    "submission['Class'] = submission['Class'].apply(int2label)\n",
    "submission.to_csv(submissionName + '.csv', index=False)"
   ]
  },
  {
   "cell_type": "code",
   "execution_count": 46,
   "metadata": {
    "collapsed": false
   },
   "outputs": [
    {
     "data": {
      "text/html": [
       "<div>\n",
       "<table border=\"1\" class=\"dataframe\">\n",
       "  <thead>\n",
       "    <tr style=\"text-align: right;\">\n",
       "      <th></th>\n",
       "      <th>ID</th>\n",
       "      <th>Class</th>\n",
       "    </tr>\n",
       "  </thead>\n",
       "  <tbody>\n",
       "    <tr>\n",
       "      <th>0</th>\n",
       "      <td>6284</td>\n",
       "      <td>L</td>\n",
       "    </tr>\n",
       "    <tr>\n",
       "      <th>1</th>\n",
       "      <td>6285</td>\n",
       "      <td>E</td>\n",
       "    </tr>\n",
       "    <tr>\n",
       "      <th>2</th>\n",
       "      <td>6286</td>\n",
       "      <td>I</td>\n",
       "    </tr>\n",
       "    <tr>\n",
       "      <th>3</th>\n",
       "      <td>6287</td>\n",
       "      <td>V</td>\n",
       "    </tr>\n",
       "    <tr>\n",
       "      <th>4</th>\n",
       "      <td>6288</td>\n",
       "      <td>r</td>\n",
       "    </tr>\n",
       "  </tbody>\n",
       "</table>\n",
       "</div>"
      ],
      "text/plain": [
       "     ID Class\n",
       "0  6284     L\n",
       "1  6285     E\n",
       "2  6286     I\n",
       "3  6287     V\n",
       "4  6288     r"
      ]
     },
     "execution_count": 46,
     "metadata": {},
     "output_type": "execute_result"
    }
   ],
   "source": [
    "submission.head()"
   ]
  },
  {
   "cell_type": "code",
   "execution_count": null,
   "metadata": {
    "collapsed": true
   },
   "outputs": [],
   "source": []
  }
 ],
 "metadata": {
  "kernelspec": {
   "display_name": "Python 2",
   "language": "python",
   "name": "python2"
  },
  "language_info": {
   "codemirror_mode": {
    "name": "ipython",
    "version": 2
   },
   "file_extension": ".py",
   "mimetype": "text/x-python",
   "name": "python",
   "nbconvert_exporter": "python",
   "pygments_lexer": "ipython2",
   "version": "2.7.9"
  }
 },
 "nbformat": 4,
 "nbformat_minor": 2
}
